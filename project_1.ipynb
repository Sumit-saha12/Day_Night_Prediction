{
 "cells": [
  {
   "cell_type": "code",
   "execution_count": 5,
   "metadata": {},
   "outputs": [],
   "source": [
    "import numpy as np\n",
    "import matplotlib.pyplot as plt\n",
    "import cv2"
   ]
  },
  {
   "cell_type": "code",
   "execution_count": 6,
   "metadata": {},
   "outputs": [],
   "source": [
    "def Day_Night(frame):\n",
    "    frame_HSV = cv2.cvtColor(frame,cv2.COLOR_RGB2HSV)\n",
    "    # cv2.imshow('VIDEO LAB',frame)\n",
    "    h,s,v = cv2.split(frame_HSV)\n",
    "    # print(l,a,b)\n",
    "    s_threshold = 30\n",
    "    v_threshold = 100\n",
    "    mask= (s<s_threshold)&(v<v_threshold)\n",
    "    l_perentage = np.sum(mask)/100\n",
    "\n",
    "    if l_perentage>50:\n",
    "        prediction = 'Night'\n",
    "        prediction2 = f'Percentage: {l_perentage/10}'\n",
    "    else:\n",
    "        prediction = 'Day'\n",
    "        prediction2 = f'Percentage: {100-l_perentage}'\n",
    "    \n",
    "    return prediction, prediction2"
   ]
  },
  {
   "cell_type": "code",
   "execution_count": 7,
   "metadata": {},
   "outputs": [
    {
     "name": "stderr",
     "output_type": "stream",
     "text": [
      "OpenCV: FFMPEG: tag 0x5634504d/'MP4V' is not supported with codec id 12 and format 'mp4 / MP4 (MPEG-4 Part 14)'\n",
      "OpenCV: FFMPEG: fallback to use tag 0x7634706d/'mp4v'\n"
     ]
    }
   ],
   "source": [
    "video = cv2.VideoCapture('/Users/sumitsaha/Desktop/DataScience_Udemy/ComputerVision/Day_Night_Project/data/Time-Lapse Clip_ Sunrise.mp4')\n",
    "frame_width = int(video.get(3)) \n",
    "frame_height = int(video.get(4)) \n",
    "fourcc = cv2.VideoWriter_fourcc(*'MP4V')\n",
    "out = cv2.VideoWriter('data/output.mp4', fourcc, 30.0, (frame_width, frame_height))\n",
    "while True:\n",
    "    ret,frame = video.read()\n",
    "\n",
    "    if not ret:\n",
    "        break\n",
    "    # video_RGB = cv2.imshow('Video',frame)\n",
    "    prediction,prediction2 = Day_Night(frame)\n",
    "    \n",
    "    cv2.putText(frame,prediction,(12,30),cv2.FONT_HERSHEY_SCRIPT_SIMPLEX,1,(0,255,68),2)\n",
    "    cv2.putText(frame,prediction2,(12,60),cv2.FONT_HERSHEY_SCRIPT_SIMPLEX,1,(0,255,68),2)\n",
    "    out.write(frame)\n",
    "    # cv2.imshow('Frame',frame)\n",
    "    # cv2.imwrite('data/output2.jpg',frame)\n",
    "\n",
    "    if cv2.waitKey(1) & 0xFF == ord('q'):\n",
    "        break\n",
    "\n",
    "out.release()\n",
    "video.release()\n",
    "cv2.destroyAllWindows()"
   ]
  }
 ],
 "metadata": {
  "kernelspec": {
   "display_name": "Python 3",
   "language": "python",
   "name": "python3"
  },
  "language_info": {
   "codemirror_mode": {
    "name": "ipython",
    "version": 3
   },
   "file_extension": ".py",
   "mimetype": "text/x-python",
   "name": "python",
   "nbconvert_exporter": "python",
   "pygments_lexer": "ipython3",
   "version": "3.11.11"
  }
 },
 "nbformat": 4,
 "nbformat_minor": 2
}
